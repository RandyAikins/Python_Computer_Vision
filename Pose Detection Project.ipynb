{
 "cells": [
  {
   "cell_type": "markdown",
   "id": "38cde658-ea83-42ca-8653-574460163dca",
   "metadata": {},
   "source": [
    "# POSE DETECTION PROJECT"
   ]
  },
  {
   "cell_type": "code",
   "execution_count": 1,
   "id": "1d194379-b2d3-4262-9578-502fead71b89",
   "metadata": {},
   "outputs": [],
   "source": [
    "# Step 1: Import Libraries\n",
    "import cv2\n",
    "import mediapipe as mp"
   ]
  },
  {
   "cell_type": "code",
   "execution_count": 2,
   "id": "fad9ecb4-aaf4-45d2-a452-cd2661c0fcb4",
   "metadata": {},
   "outputs": [],
   "source": [
    "# Step 2: Identify Webcam\n",
    "cap = cv2.VideoCapture(0)"
   ]
  },
  {
   "cell_type": "code",
   "execution_count": 3,
   "id": "1de3a0f2-8ccc-4108-a92c-a7cc2a9ca43c",
   "metadata": {},
   "outputs": [],
   "source": [
    "# Step 3: using mediapipe for pose detection\n",
    "mpPose = mp.solutions.pose\n",
    "pose = mpPose.Pose()\n",
    "# pose = mpPose.Pose(static_image_mode = False, upper_body_only = False, smooth_landmarks = True, min_detection_confidence = 0.5, min_tracking_confidence = 0.5)\n",
    "\n",
    "# draw and connect landmarks\n",
    "mpDraw = mp.solutions.drawing_utils"
   ]
  },
  {
   "cell_type": "code",
   "execution_count": 5,
   "id": "ad185f06-aefb-41cf-af45-813e2f384e69",
   "metadata": {},
   "outputs": [],
   "source": [
    "# Step 4: Switch on Webcam\n",
    "\n",
    "while True:\n",
    "    _, img = cap.read()\n",
    "    \n",
    "    #convert video/image from BGR to RGB\n",
    "    imgRGB = cv2.cvtColor(img, cv2.COLOR_BGR2RGB)\n",
    "    \n",
    "    # apply mediapipe pose detection module\n",
    "    results = pose.process(imgRGB)\n",
    "    print(results.pose_landmarks)\n",
    "    \n",
    "    # draw landmarks\n",
    "    if results.pose_landmarks:\n",
    "        mpDraw.draw_landmarks(img, results.pose_landmarks, mpPose.POSE_CONNECTIONS) \n",
    "    \n",
    "    cv2.putText(img, '10Alytics Pose Detection Project', (10,50), cv2.FONT_HERSHEY_PLAIN, 2, (255,255,255))\n",
    "    \n",
    "    cv2.imshow('10Alytics Pose Detection', img)\n",
    "    if cv2.waitKey(1) & 0xFF == ord('q'):\n",
    "        break\n",
    "        \n",
    "# release the capture while all processing is done\n",
    "cap.release()\n",
    "cv2.destroyAllWindows()"
   ]
  },
  {
   "cell_type": "code",
   "execution_count": null,
   "id": "339ce1cc-1fb6-4ff5-af20-2c97469550e9",
   "metadata": {},
   "outputs": [],
   "source": []
  }
 ],
 "metadata": {
  "kernelspec": {
   "display_name": "Python 3 (ipykernel)",
   "language": "python",
   "name": "python3"
  },
  "language_info": {
   "codemirror_mode": {
    "name": "ipython",
    "version": 3
   },
   "file_extension": ".py",
   "mimetype": "text/x-python",
   "name": "python",
   "nbconvert_exporter": "python",
   "pygments_lexer": "ipython3",
   "version": "3.10.9"
  }
 },
 "nbformat": 4,
 "nbformat_minor": 5
}
