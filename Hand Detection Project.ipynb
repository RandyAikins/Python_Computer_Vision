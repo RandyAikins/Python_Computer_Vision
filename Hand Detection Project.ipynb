{
 "cells": [
  {
   "cell_type": "markdown",
   "id": "7b525c8a-39b9-4417-aed3-1bec9455fde8",
   "metadata": {},
   "source": [
    "# HAND DETECTION PROJECT"
   ]
  },
  {
   "cell_type": "code",
   "execution_count": 1,
   "id": "19814e8d-d061-41df-9d6b-d838c26d573d",
   "metadata": {},
   "outputs": [],
   "source": [
    "# Step 1: import libraries\n",
    "import cv2\n",
    "import mediapipe as mp"
   ]
  },
  {
   "cell_type": "code",
   "execution_count": 2,
   "id": "0960ae42-bc45-4f97-b6a0-1f6d058b7618",
   "metadata": {},
   "outputs": [],
   "source": [
    "# Step 2: identify Webcam\n",
    "cap = cv2.VideoCapture(0)"
   ]
  },
  {
   "cell_type": "code",
   "execution_count": 3,
   "id": "27c8e8a4-fc16-4241-85be-c7c5fb93704a",
   "metadata": {},
   "outputs": [],
   "source": [
    "# Step 3: using mediapipe for hand detection\n",
    "mpHands = mp.solutions.hands\n",
    "hands = mpHands.Hands()\n",
    "mpDraw = mp.solutions.drawing_utils"
   ]
  },
  {
   "cell_type": "code",
   "execution_count": 4,
   "id": "a196ec92-7672-49a4-ac8b-1482ef0fc1ff",
   "metadata": {},
   "outputs": [],
   "source": [
    "# Step 4: Switch on webcam\n",
    "while True:\n",
    "    _, img = cap.read()\n",
    "    \n",
    "    # convert image from BGR to RGB\n",
    "    imgRGB = cv2.cvtColor(img, cv2.COLOR_BGR2RGB)\n",
    "    \n",
    "    # apply mediapipe\n",
    "    results = hands.process(imgRGB)\n",
    "    \n",
    "    # print(results.multi_hand_landmarks)\n",
    "    \n",
    "    if results.multi_hand_landmarks:\n",
    "        for handLms in results.multi_hand_landmarks:\n",
    "            for id, lm in enumerate(handLms.landmark):\n",
    "                # print(id, lm)\n",
    "                \n",
    "                mpDraw.draw_landmarks(img, handLms, mpHands.HAND_CONNECTIONS)\n",
    "    \n",
    "    cv2.putText(img, '10Alytics Hands Detection Program', (10,50), cv2.FONT_HERSHEY_PLAIN, 2, (255,255,255))\n",
    "    cv2.imshow('10Alytics Hand Detection Project', img)\n",
    "    if cv2.waitKey(1) & 0xFF == ord('q'):\n",
    "        break\n",
    "        \n",
    "# release the capture while all processing is done\n",
    "cap.release()\n",
    "cv2.destroyAllWindows()"
   ]
  },
  {
   "cell_type": "code",
   "execution_count": null,
   "id": "8c827a5c-780a-4f15-a4e6-c9de8dee4b81",
   "metadata": {},
   "outputs": [],
   "source": []
  }
 ],
 "metadata": {
  "kernelspec": {
   "display_name": "Python 3 (ipykernel)",
   "language": "python",
   "name": "python3"
  },
  "language_info": {
   "codemirror_mode": {
    "name": "ipython",
    "version": 3
   },
   "file_extension": ".py",
   "mimetype": "text/x-python",
   "name": "python",
   "nbconvert_exporter": "python",
   "pygments_lexer": "ipython3",
   "version": "3.10.9"
  }
 },
 "nbformat": 4,
 "nbformat_minor": 5
}
